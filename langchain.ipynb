{
 "cells": [
  {
   "cell_type": "code",
   "execution_count": 1,
   "id": "f21b1fc0",
   "metadata": {},
   "outputs": [
    {
     "data": {
      "text/plain": [
       "[Document(metadata={'source': 'story.txt'}, page_content='The Whispering Grove\\n\\nIn the heart of the Elderwood Forest, where ancient oaks stretched their gnarled branches toward the starlit sky, young Lyra discovered a grove that shimmered with an otherworldly light. The trees here were different—their bark gleamed like silver, and their leaves sang soft melodies when touched by the evening breeze.\\n\\nAs she stepped into the clearing, the ground beneath her feet began to glow with ethereal runes, pulsing in rhythm with her heartbeat. At the center of the grove stood a crystalline fountain, its waters flowing upward in defiance of nature\\'s laws, forming spiraling ribbons of liquid starlight.\\n\\n\"Welcome, child of two worlds,\" whispered a voice that seemed to come from the very air itself.\\n\\nLyra turned to see a figure emerging from behind the largest tree—an elf with eyes like captured moonbeams and hair that flowed like liquid silver. She wore robes woven from spider silk and morning mist.\\n\\n\"I am Aeliana, Guardian of the Threshold,\" the elf said, extending her hand. \"You have found the Whispering Grove, where the veil between realms grows thin. Your arrival was foretold in the star-songs of old.\"\\n\\nLyra\\'s hand trembled as she reached out. The moment their fingers touched, visions flooded her mind—cities floating among clouds, dragons soaring through aurora-painted skies, and magic flowing like rivers through lands beyond imagination.\\n\\n\"Your true journey begins now,\" Aeliana smiled, as the grove around them began to shimmer and transform. \"Are you ready to embrace your destiny?\"\\n\\nWith courage burning bright in her heart, Lyra nodded. The fountain\\'s light intensified, the runes on the ground blazed to life, and together they stepped through the veil into a world where dreams took flight and magic was as real as the breath in her lungs.\\n\\nThe Whispering Grove fell silent behind them, waiting patiently for the next seeker to find their way home.')]"
      ]
     },
     "execution_count": 1,
     "metadata": {},
     "output_type": "execute_result"
    }
   ],
   "source": [
    "from langchain_community.document_loaders.text import TextLoader\n",
    "\n",
    "story = TextLoader(\"story.txt\", encoding=\"utf-8\")\n",
    "\n",
    "story.load()"
   ]
  },
  {
   "cell_type": "code",
   "execution_count": 2,
   "id": "db779230",
   "metadata": {},
   "outputs": [
    {
     "name": "stdout",
     "output_type": "stream",
     "text": [
      "Installing reportlab...\n",
      "Collecting reportlab\n",
      "  Downloading reportlab-4.4.2-py3-none-any.whl.metadata (1.8 kB)\n",
      "Collecting pillow>=9.0.0 (from reportlab)\n",
      "  Downloading pillow-11.3.0-cp313-cp313-macosx_11_0_arm64.whl.metadata (9.0 kB)\n",
      "Requirement already satisfied: charset-normalizer in ./.venv/lib/python3.13/site-packages (from reportlab) (3.4.2)\n",
      "Downloading reportlab-4.4.2-py3-none-any.whl (2.0 MB)\n",
      "\u001b[2K   \u001b[90m━━━━━━━━━━━━━━━━━━━━━━━━━━━━━━━━━━━━━━━━\u001b[0m \u001b[32m2.0/2.0 MB\u001b[0m \u001b[31m9.6 MB/s\u001b[0m eta \u001b[36m0:00:00\u001b[0ma \u001b[36m0:00:01\u001b[0m\n",
      "\u001b[?25hDownloading pillow-11.3.0-cp313-cp313-macosx_11_0_arm64.whl (4.7 MB)\n",
      "\u001b[2K   \u001b[90m━━━━━━━━━━━━━━━━━━━━━━━━━━━━━━━━━━━━━━━━\u001b[0m \u001b[32m4.7/4.7 MB\u001b[0m \u001b[31m19.8 MB/s\u001b[0m eta \u001b[36m0:00:00\u001b[0ma \u001b[36m0:00:01\u001b[0m\n",
      "\u001b[?25hInstalling collected packages: pillow, reportlab\n",
      "\u001b[2K   \u001b[90m━━━━━━━━━━━━━━━━━━━━━━━━━━━━━━━━━━━━━━━━\u001b[0m \u001b[32m2/2\u001b[0m [reportlab]/2\u001b[0m [reportlab]\n",
      "\u001b[1A\u001b[2KSuccessfully installed pillow-11.3.0 reportlab-4.4.2\n",
      "PDF generation libraries ready!\n"
     ]
    }
   ],
   "source": [
    "# Install required packages for PDF generation\n",
    "import subprocess\n",
    "import sys\n",
    "\n",
    "def install_package(package):\n",
    "    subprocess.check_call([sys.executable, \"-m\", \"pip\", \"install\", package])\n",
    "\n",
    "try:\n",
    "    from reportlab.pdfgen import canvas\n",
    "    from reportlab.lib.pagesizes import letter\n",
    "    from reportlab.lib.styles import getSampleStyleSheet\n",
    "    from reportlab.platypus import SimpleDocTemplate, Paragraph, Spacer\n",
    "except ImportError:\n",
    "    print(\"Installing reportlab...\")\n",
    "    install_package(\"reportlab\")\n",
    "    from reportlab.pdfgen import canvas\n",
    "    from reportlab.lib.pagesizes import letter\n",
    "    from reportlab.lib.styles import getSampleStyleSheet\n",
    "    from reportlab.platypus import SimpleDocTemplate, Paragraph, Spacer\n",
    "\n",
    "print(\"PDF generation libraries ready!\")"
   ]
  },
  {
   "cell_type": "code",
   "execution_count": 3,
   "id": "5dde2a8f",
   "metadata": {},
   "outputs": [
    {
     "name": "stdout",
     "output_type": "stream",
     "text": [
      "Loaded information for 6 GenAI models\n"
     ]
    }
   ],
   "source": [
    "# Latest GenAI Models Data (as of July 2025)\n",
    "genai_models = {\n",
    "    \"GPT-4o\": {\n",
    "        \"owner\": \"OpenAI\",\n",
    "        \"description\": \"Advanced multimodal AI model capable of processing text, images, and audio with superior reasoning capabilities. Features improved efficiency and reduced costs compared to GPT-4.\",\n",
    "        \"release_date\": \"May 2024\",\n",
    "        \"capabilities\": [\"Text generation\", \"Image understanding\", \"Audio processing\", \"Code generation\", \"Mathematical reasoning\"]\n",
    "    },\n",
    "    \"Claude 3.5 Sonnet\": {\n",
    "        \"owner\": \"Anthropic\",\n",
    "        \"description\": \"Anthropic's most capable model with enhanced reasoning, coding abilities, and improved safety features. Excels at complex analysis and creative tasks.\",\n",
    "        \"release_date\": \"June 2024\", \n",
    "        \"capabilities\": [\"Advanced reasoning\", \"Code generation\", \"Creative writing\", \"Analysis\", \"Safety-focused responses\"]\n",
    "    },\n",
    "    \"Gemini Ultra\": {\n",
    "        \"owner\": \"Google\",\n",
    "        \"description\": \"Google's most advanced AI model with multimodal capabilities, excelling in complex reasoning tasks and integration with Google services.\",\n",
    "        \"release_date\": \"February 2024\",\n",
    "        \"capabilities\": [\"Multimodal processing\", \"Complex reasoning\", \"Google integration\", \"Real-time information\", \"Code understanding\"]\n",
    "    },\n",
    "    \"LLaMA 3\": {\n",
    "        \"owner\": \"Meta\",\n",
    "        \"description\": \"Open-source large language model with strong performance across various tasks. Available in multiple sizes with improved efficiency.\",\n",
    "        \"release_date\": \"April 2024\",\n",
    "        \"capabilities\": [\"Open source\", \"Multilingual\", \"Code generation\", \"Reasoning\", \"Customizable fine-tuning\"]\n",
    "    },\n",
    "    \"o1-preview\": {\n",
    "        \"owner\": \"OpenAI\",\n",
    "        \"description\": \"OpenAI's reasoning-focused model designed for complex problem-solving, mathematics, and scientific research with extended thinking time.\",\n",
    "        \"release_date\": \"September 2024\",\n",
    "        \"capabilities\": [\"Advanced reasoning\", \"Mathematics\", \"Scientific analysis\", \"Complex problem solving\", \"Chain-of-thought processing\"]\n",
    "    },\n",
    "    \"Mistral Large\": {\n",
    "        \"owner\": \"Mistral AI\",\n",
    "        \"description\": \"European AI company's flagship model with strong multilingual capabilities and focus on efficiency and safety.\",\n",
    "        \"release_date\": \"February 2024\",\n",
    "        \"capabilities\": [\"Multilingual\", \"Efficient processing\", \"Code generation\", \"Safety features\", \"European data compliance\"]\n",
    "    }\n",
    "}\n",
    "\n",
    "print(f\"Loaded information for {len(genai_models)} GenAI models\")"
   ]
  },
  {
   "cell_type": "code",
   "execution_count": 4,
   "id": "2e7d3914",
   "metadata": {},
   "outputs": [
    {
     "name": "stdout",
     "output_type": "stream",
     "text": [
      "PDF created successfully: latest_genai_models_2025.pdf\n",
      "Generated PDF file: latest_genai_models_2025.pdf\n"
     ]
    }
   ],
   "source": [
    "# Generate PDF with GenAI Models Information\n",
    "from datetime import datetime\n",
    "\n",
    "def create_genai_models_pdf():\n",
    "    filename = \"latest_genai_models_2025.pdf\"\n",
    "    doc = SimpleDocTemplate(filename, pagesize=letter)\n",
    "    story = []\n",
    "    styles = getSampleStyleSheet()\n",
    "    \n",
    "    # Title\n",
    "    title = Paragraph(\"Latest Generative AI Models - 2025\", styles['Title'])\n",
    "    story.append(title)\n",
    "    story.append(Spacer(1, 12))\n",
    "    \n",
    "    # Subtitle\n",
    "    subtitle = Paragraph(f\"Comprehensive Overview - Updated {datetime.now().strftime('%B %Y')}\", styles['Heading2'])\n",
    "    story.append(subtitle)\n",
    "    story.append(Spacer(1, 24))\n",
    "    \n",
    "    # Introduction\n",
    "    intro_text = \"\"\"\n",
    "    This document provides an overview of the latest and most significant generative AI models \n",
    "    as of 2025. Each model represents cutting-edge advancements in artificial intelligence, \n",
    "    offering unique capabilities and applications across various domains.\n",
    "    \"\"\"\n",
    "    intro = Paragraph(intro_text, styles['Normal'])\n",
    "    story.append(intro)\n",
    "    story.append(Spacer(1, 20))\n",
    "    \n",
    "    # Model details\n",
    "    for model_name, details in genai_models.items():\n",
    "        # Model name as heading\n",
    "        model_heading = Paragraph(f\"<b>{model_name}</b>\", styles['Heading2'])\n",
    "        story.append(model_heading)\n",
    "        story.append(Spacer(1, 6))\n",
    "        \n",
    "        # Owner\n",
    "        owner_text = f\"<b>Owner:</b> {details['owner']}\"\n",
    "        owner_para = Paragraph(owner_text, styles['Normal'])\n",
    "        story.append(owner_para)\n",
    "        story.append(Spacer(1, 6))\n",
    "        \n",
    "        # Release date\n",
    "        date_text = f\"<b>Release Date:</b> {details['release_date']}\"\n",
    "        date_para = Paragraph(date_text, styles['Normal'])\n",
    "        story.append(date_para)\n",
    "        story.append(Spacer(1, 6))\n",
    "        \n",
    "        # Description\n",
    "        desc_text = f\"<b>Description:</b> {details['description']}\"\n",
    "        desc_para = Paragraph(desc_text, styles['Normal'])\n",
    "        story.append(desc_para)\n",
    "        story.append(Spacer(1, 6))\n",
    "        \n",
    "        # Capabilities\n",
    "        capabilities_text = f\"<b>Key Capabilities:</b> {', '.join(details['capabilities'])}\"\n",
    "        cap_para = Paragraph(capabilities_text, styles['Normal'])\n",
    "        story.append(cap_para)\n",
    "        story.append(Spacer(1, 18))\n",
    "    \n",
    "    # Footer\n",
    "    footer_text = \"\"\"\n",
    "    <i>Note: This information is current as of July 2025. The AI landscape evolves rapidly, \n",
    "    and new models and updates are released frequently. For the most current information, \n",
    "    please consult the respective companies' official documentation.</i>\n",
    "    \"\"\"\n",
    "    footer = Paragraph(footer_text, styles['Normal'])\n",
    "    story.append(Spacer(1, 20))\n",
    "    story.append(footer)\n",
    "    \n",
    "    # Build PDF\n",
    "    doc.build(story)\n",
    "    print(f\"PDF created successfully: {filename}\")\n",
    "    return filename\n",
    "\n",
    "# Create the PDF\n",
    "pdf_filename = create_genai_models_pdf()\n",
    "print(f\"Generated PDF file: {pdf_filename}\")"
   ]
  },
  {
   "cell_type": "code",
   "execution_count": 20,
   "id": "f060c598",
   "metadata": {},
   "outputs": [
    {
     "data": {
      "text/plain": [
       "[Document(metadata={'producer': 'ReportLab PDF Library - www.reportlab.com', 'creator': '(unspecified)', 'creationdate': '2025-07-16T17:26:44+05:00', 'author': '(anonymous)', 'keywords': '', 'moddate': '2025-07-16T17:26:44+05:00', 'subject': '(unspecified)', 'title': '(anonymous)', 'trapped': '/False', 'source': 'latest_genai_models_2025.pdf', 'total_pages': 2, 'page': 0, 'page_label': '1'}, page_content=\"Latest Generative AI Models - 2025\\nComprehensive Overview - Updated July 2025\\nThis document provides an overview of the latest and most significant generative AI models as of 2025.\\nEach model represents cutting-edge advancements in artificial intelligence, offering unique capabilities\\nand applications across various domains.\\nGPT-4o\\nOwner: OpenAI\\nRelease Date: May 2024\\nDescription: Advanced multimodal AI model capable of processing text, images, and audio with\\nsuperior reasoning capabilities. Features improved efficiency and reduced costs compared to GPT-4.\\nKey Capabilities: Text generation, Image understanding, Audio processing, Code generation,\\nMathematical reasoning\\nClaude 3.5 Sonnet\\nOwner: Anthropic\\nRelease Date: June 2024\\nDescription: Anthropic's most capable model with enhanced reasoning, coding abilities, and improved\\nsafety features. Excels at complex analysis and creative tasks.\\nKey Capabilities: Advanced reasoning, Code generation, Creative writing, Analysis, Safety-focused\\nresponses\\nGemini Ultra\\nOwner: Google\\nRelease Date: February 2024\\nDescription: Google's most advanced AI model with multimodal capabilities, excelling in complex\\nreasoning tasks and integration with Google services.\\nKey Capabilities: Multimodal processing, Complex reasoning, Google integration, Real-time\\ninformation, Code understanding\\nLLaMA 3\"),\n",
       " Document(metadata={'producer': 'ReportLab PDF Library - www.reportlab.com', 'creator': '(unspecified)', 'creationdate': '2025-07-16T17:26:44+05:00', 'author': '(anonymous)', 'keywords': '', 'moddate': '2025-07-16T17:26:44+05:00', 'subject': '(unspecified)', 'title': '(anonymous)', 'trapped': '/False', 'source': 'latest_genai_models_2025.pdf', 'total_pages': 2, 'page': 1, 'page_label': '2'}, page_content=\"Owner: Meta\\nRelease Date: April 2024\\nDescription: Open-source large language model with strong performance across various tasks.\\nAvailable in multiple sizes with improved efficiency.\\nKey Capabilities: Open source, Multilingual, Code generation, Reasoning, Customizable fine-tuning\\no1-preview\\nOwner: OpenAI\\nRelease Date: September 2024\\nDescription: OpenAI's reasoning-focused model designed for complex problem-solving, mathematics,\\nand scientific research with extended thinking time.\\nKey Capabilities: Advanced reasoning, Mathematics, Scientific analysis, Complex problem solving,\\nChain-of-thought processing\\nMistral Large\\nOwner: Mistral AI\\nRelease Date: February 2024\\nDescription: European AI company's flagship model with strong multilingual capabilities and focus on\\nefficiency and safety.\\nKey Capabilities: Multilingual, Efficient processing, Code generation, Safety features, European data\\ncompliance\\nNote: This information is current as of July 2025. The AI landscape evolves rapidly, and new models\\nand updates are released frequently. For the most current information, please consult the respective\\ncompanies' official documentation.\")]"
      ]
     },
     "execution_count": 20,
     "metadata": {},
     "output_type": "execute_result"
    }
   ],
   "source": [
    "\n",
    "from langchain_community.document_loaders import PyPDFLoader\n",
    "pdf_filename = \"latest_genai_models_2025.pdf\"\n",
    "pdf_data = PyPDFLoader(pdf_filename)\n",
    "pdf_data.load()\n",
    "\n"
   ]
  },
  {
   "cell_type": "code",
   "execution_count": 24,
   "id": "10f1cf50",
   "metadata": {},
   "outputs": [
    {
     "data": {
      "text/plain": [
       "[Document(metadata={'source': 'https://cloudenginelabs.io', 'title': 'CloudEngine Labs', 'description': 'Cloud & DevOps Automation, Technical Content, and Software Development services.', 'language': 'en'}, page_content='CloudEngine LabsCloudEngine Labs IconCloudEngine Labs®ServicesProductsTestimonialsTrainingContactToggle themeBuild, Automate, and Scale Applications with CloudEngine Labs®Your expert partner for Cloud & DevOps automation, Technical content creation, & Bespoke software development.Our ServicesOur ProductsTake Quick Automation AssessmentContact UsWhat We OfferExpert services designed to accelerate your innovation and growth.Cloud & DevOps AutomationCI/CD Pipeline ImplementationInfrastructure as Code (IaC)Cloud Migration & ManagementContainerization & OrchestrationTechnical Content CreationEngaging Blog Posts & ArticlesIn-depth WhitepapersClear & Concise DocumentationVideo Tutorials & DemosSoftware DevelopmentCustom Web ApplicationsAPI Development & IntegrationCloud-Native SolutionsScalable Backend SystemsAI-based Low Code DevelopmentRapid Application PrototypingIntelligent UI/UX GenerationAutomated Business LogicSeamless API IntegrationOur Innovative ProductsWe are building next-generation tools to empower developers and businesses.DevOps PlatformAccel SDLCAn integrated platform to streamline your development and operations lifecycle, from code to cloud.Request DemoWhat Our Clients SayWe pride ourselves on building strong relationships and delivering results.\"There’s also a special call-out for the CICD demos that we had done (for Microsoft Fabric), kudos to Saravanan - he recently joined us and he picked that up. He did the demos and [….] the demos were pretty clear. It connected the dots very well and [….] that\\'s the way to go guys. it\\'s not about How do you enthral the customer? It’s about How do you become a trustworth partner.\"Balaji KrishnanCEO, GJ Cloud Solutions\"I have had the pleasure of working with Saravanan and can confidently say that his expertise and dedication in Cloud and DevOps are truly exceptional. Saravanan\\'s deep knowledge makes him a unique and invaluable content creator. His ability to understand complex technical concepts and translate them into clear, engaging, and user-friendly blog posts is remarkable. Saravanan\\'s commitment to delivering high-quality content on time have made every collaboration a success. I highly recommend G. Saravanan for technical content creation.\"Melissa PalmerCEO, East West Information Services LLCEnrollProfessional Training ProgramsUpskill your team with our expert-led training sessions on the latest AI tools, Automation in Cloud and DevOps technologies. Our upcoming curriculum includes:DevOps and Cloud automation trainingsAI productivity tool trainingsContact UsReady to Elevate Your Software Business?Let\\'s build the future together. Reach out to us to discuss your project and discover how we can help you achieve your goals.Get In Touchwork@cloudenginelabs.io© 2025 CloudEngine Labs®. All rights reserved.')]"
      ]
     },
     "execution_count": 24,
     "metadata": {},
     "output_type": "execute_result"
    }
   ],
   "source": [
    "from langchain_community.document_loaders import WebBaseLoader\n",
    "url = \"https://cloudenginelabs.io\"\n",
    "web_data = WebBaseLoader(url)\n",
    "web_data.load()"
   ]
  }
 ],
 "metadata": {
  "kernelspec": {
   "display_name": ".venv",
   "language": "python",
   "name": "python3"
  },
  "language_info": {
   "codemirror_mode": {
    "name": "ipython",
    "version": 3
   },
   "file_extension": ".py",
   "mimetype": "text/x-python",
   "name": "python",
   "nbconvert_exporter": "python",
   "pygments_lexer": "ipython3",
   "version": "3.13.5"
  }
 },
 "nbformat": 4,
 "nbformat_minor": 5
}
